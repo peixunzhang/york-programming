{
 "cells": [
  {
   "cell_type": "code",
   "execution_count": 1,
   "metadata": {},
   "outputs": [],
   "source": [
    "import tkinter as tk\n",
    "from tkinter import ttk"
   ]
  },
  {
   "cell_type": "markdown",
   "metadata": {},
   "source": [
    "The function that is called when teh button is pressed"
   ]
  },
  {
   "cell_type": "code",
   "execution_count": 2,
   "metadata": {},
   "outputs": [],
   "source": [
    "def get_def():\n",
    "    term = term_entry.get()\n",
    "    # clears the text box from previous entries\n",
    "    output.delete(0.0, tk.END)\n",
    "    if term in computer_defs:\n",
    "        definition = computer_defs[term]\n",
    "    else:\n",
    "        definition = \"sorry that term is not in the dictionary\"\n",
    "\n",
    "    output.insert(tk.END, definition)"
   ]
  },
  {
   "cell_type": "code",
   "execution_count": 3,
   "metadata": {},
   "outputs": [],
   "source": [
    "window = tk.Tk()\n",
    "window.title(\"Computer Science Definitions\")\n",
    "window.configure(background='black')\n",
    "\n",
    "# text to output to the user\n",
    "instruction=tk.StringVar()\n",
    "instruction.set('Enter a term you would like to know the definition of:')\n",
    "\n",
    "# adding a logo\n",
    "logo = tk.PhotoImage(file=\"Logo.png\")\n",
    "tk.Label(window, image=logo, bg='black').grid(row=0,column=0, sticky='EW', columnspan=2)\n",
    "\n",
    "# adding instruction for user\n",
    "tk.Label(window, text=instruction.get(), \n",
    "         bg='black', fg='white', font='none 12 bold').grid(row=1,column=0, columnspan=2, sticky='EW')\n",
    "\n",
    "# create a text entry box\n",
    "term_entry = tk.Entry(window,bg='white', width=30)\n",
    "term_entry.grid(row=2, column=0, sticky='E')"
   ]
  },
  {
   "cell_type": "markdown",
   "metadata": {},
   "source": [
    "When the button is added here the cllaback function is assigned to teh button's command attribute \"command=get_def\""
   ]
  },
  {
   "cell_type": "code",
   "execution_count": 4,
   "metadata": {},
   "outputs": [],
   "source": [
    "# add a button\n",
    "ttk.Button(window, text='GET', width=6, command=get_def).grid(row=2, column=1, sticky='W')"
   ]
  },
  {
   "cell_type": "code",
   "execution_count": 5,
   "metadata": {},
   "outputs": [],
   "source": [
    "# lable for output\n",
    "tk.Label(window, text='\\nDefinition:', bg='black', fg='white', font='none 12 bold').grid(row=4,column=0, columnspan=2, sticky='W')\n",
    "\n",
    "# output for the definiton (large text box)\n",
    "output = tk.Text(window, width=75, height=6, wrap='word', background='white')\n",
    "output.grid(row=5, column=0, columnspan=2)"
   ]
  },
  {
   "cell_type": "code",
   "execution_count": 6,
   "metadata": {},
   "outputs": [],
   "source": [
    "# create the dictionary to extract terms\n",
    "computer_defs = {'term':'Def', 'term2':'Def2'}"
   ]
  },
  {
   "cell_type": "code",
   "execution_count": null,
   "metadata": {},
   "outputs": [],
   "source": [
    "window.mainloop()"
   ]
  }
 ],
 "metadata": {
  "kernelspec": {
   "display_name": "Python 3",
   "language": "python",
   "name": "python3"
  },
  "language_info": {
   "codemirror_mode": {
    "name": "ipython",
    "version": 3
   },
   "file_extension": ".py",
   "mimetype": "text/x-python",
   "name": "python",
   "nbconvert_exporter": "python",
   "pygments_lexer": "ipython3",
   "version": "3.7.2"
  }
 },
 "nbformat": 4,
 "nbformat_minor": 2
}
