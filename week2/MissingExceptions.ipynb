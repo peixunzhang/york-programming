{
 "cells": [
  {
   "cell_type": "markdown",
   "source": [
    "This code needs correcting using try .. except\n",
    "\n",
    "Test this with the following pairs of values \n",
    "30 and 3, 5 and 45, 0 and 0, 'hit enter key' \n",
    "to find the type of error/s that are generated"
   ],
   "metadata": {}
  },
  {
   "cell_type": "code",
   "execution_count": 2,
   "source": [
    "try:\n",
    "  num1 = int(input(\"Enter a number:\" ))\n",
    "  num2 = int(input(\"Enter another number:\" ))\n",
    "\n",
    "  if num1 > num2:\n",
    "    if num1%num2 == 0:\n",
    "      print(num1, \" is a multiple of \", num2)\n",
    "  else:\n",
    "    if num2%num1 == 0:\n",
    "      print(num2, \" is a multiple of \", num1)\n",
    "except:\n",
    "  print(\"Invalid input\")"
   ],
   "outputs": [
    {
     "output_type": "stream",
     "name": "stdout",
     "text": [
      "Invalid input\n"
     ]
    }
   ],
   "metadata": {}
  },
  {
   "cell_type": "markdown",
   "source": [
    "User input requires a list of space seperated words\n",
    "Create a small list to see what error is generated"
   ],
   "metadata": {}
  },
  {
   "cell_type": "code",
   "execution_count": 7,
   "source": [
    "names = input(\"List of names:\") \n",
    "nameList = names.split()\n",
    "try:\n",
    "    print(nameList[1000])\n",
    "except:\n",
    "    print(\"Invalid number\")"
   ],
   "outputs": [
    {
     "output_type": "stream",
     "name": "stdout",
     "text": [
      "Invalid number\n"
     ]
    }
   ],
   "metadata": {}
  },
  {
   "cell_type": "markdown",
   "source": [
    "This is an easy misatke to make by users"
   ],
   "metadata": {}
  },
  {
   "cell_type": "code",
   "execution_count": 12,
   "source": [
    "randomList = ['67', 53, '3O',72, '10']\n",
    "\n",
    "for i in randomList:\n",
    "  try:\n",
    "    print(int(i) * 10)\n",
    "  except:\n",
    "    print(f\"Invalid item {i}\")  "
   ],
   "outputs": [
    {
     "output_type": "stream",
     "name": "stdout",
     "text": [
      "670\n",
      "530\n",
      "Invalid item 3O\n",
      "720\n",
      "100\n"
     ]
    }
   ],
   "metadata": {}
  },
  {
   "cell_type": "markdown",
   "source": [
    "validating user given file names, what can go wrong?"
   ],
   "metadata": {}
  },
  {
   "cell_type": "code",
   "execution_count": 16,
   "source": [
    "import sys\n",
    "fileName = input(\"Enter File:\")\n",
    "try:\n",
    "    file = open(fileName)\n",
    "    line = file.read()\n",
    "    words = line.split()\n",
    "    value = int(words[0])\n",
    "    print(open(fileName).read())\n",
    "except FileNotFoundError:\n",
    "    print(\"The file does not exist.\")\n",
    "except ValueError:\n",
    "    print(\"That is not a number.\")\n",
    "except OSError as err:\n",
    "    print(\"OS error: {0}\".format(err))\n",
    "except:\n",
    "    print(\"Unexpected Error\", sys.exc_info()[0])\n",
    "    "
   ],
   "outputs": [
    {
     "output_type": "stream",
     "name": "stdout",
     "text": [
      "The file does not exist.\n"
     ]
    }
   ],
   "metadata": {}
  }
 ],
 "metadata": {
  "kernelspec": {
   "name": "python3",
   "display_name": "Python 3.9.6 64-bit"
  },
  "language_info": {
   "codemirror_mode": {
    "name": "ipython",
    "version": 3
   },
   "file_extension": ".py",
   "mimetype": "text/x-python",
   "name": "python",
   "nbconvert_exporter": "python",
   "pygments_lexer": "ipython3",
   "version": "3.9.6"
  },
  "interpreter": {
   "hash": "7190ff053c3d90cfb76522ce77adf250c9fcce715af1d5695ddeeaa88dc7dc4c"
  }
 },
 "nbformat": 4,
 "nbformat_minor": 2
}